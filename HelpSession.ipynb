{
 "cells": [
  {
   "cell_type": "code",
   "execution_count": 5,
   "id": "9e549479",
   "metadata": {},
   "outputs": [
    {
     "name": "stdout",
     "output_type": "stream",
     "text": [
      "tf.Tensor(1, shape=(), dtype=int16)\n",
      "<tf.Variable 'Variable:0' shape=() dtype=string, numpy=b'var'>\n"
     ]
    }
   ],
   "source": [
    "import tensorflow as tf\n",
    "r2=tf.constant(1,tf.int16,name='my_scalar')\n",
    "print(r2)\n",
    "q2_matrix=tf.constant([[1,2],[3,4]],tf.int16)\n",
    "q2_matrix\n",
    "tensor_a=tf.constant([[1,2]],tf.int16) \n",
    "tensor_b=tf.constant([[3,4]],tf.int16) \n",
    "tensor_add=tf.add(tensor_a,tensor_b)\n",
    "tensor_add\n",
    "\n",
    "var=tf.Variable('var',[[1,2],[3,4]])\n",
    "print(var)"
   ]
  },
  {
   "cell_type": "markdown",
   "id": "dd36879b",
   "metadata": {},
   "source": [
    "tensor_a=tf.constant([[1,2]],tf.int16)\n",
    "tensor_b=tf.constant([[3,4]],tf.int16)\n",
    "tensor_add=tf.add(tensor_a,tensor_b)"
   ]
  },
  {
   "cell_type": "code",
   "execution_count": 12,
   "id": "dce14083",
   "metadata": {},
   "outputs": [
    {
     "name": "stdout",
     "output_type": "stream",
     "text": [
      "Tensor(\"Mul_5:0\", shape=(1,), dtype=int32)\n",
      "[4]\n",
      "Tensor(\"Mul_5:0\", shape=(1,), dtype=int32)\n"
     ]
    }
   ],
   "source": [
    "tf.compat.v1.disable_eager_execution()\n",
    "x=tf.constant([2])\n",
    "y=tf.constant([2])\n",
    "mul=tf.multiply(x,y)\n",
    "init=tf.compat.v1.global_variables_initializer()\n",
    "sess=tf.compat.v1.Session()\n",
    "sess.run(init)\n",
    "input=sess.run(mul)\n",
    "\n",
    "print(input)\n",
    "sess.close()\n",
    "\n",
    "\n"
   ]
  },
  {
   "cell_type": "code",
   "execution_count": null,
   "id": "4931720a",
   "metadata": {},
   "outputs": [],
   "source": []
  }
 ],
 "metadata": {
  "kernelspec": {
   "display_name": "Python 3 (ipykernel)",
   "language": "python",
   "name": "python3"
  },
  "language_info": {
   "codemirror_mode": {
    "name": "ipython",
    "version": 3
   },
   "file_extension": ".py",
   "mimetype": "text/x-python",
   "name": "python",
   "nbconvert_exporter": "python",
   "pygments_lexer": "ipython3",
   "version": "3.10.0"
  }
 },
 "nbformat": 4,
 "nbformat_minor": 5
}
