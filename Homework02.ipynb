{
 "cells": [
  {
   "cell_type": "code",
   "execution_count": 9,
   "id": "90cc1fa2",
   "metadata": {},
   "outputs": [
    {
     "name": "stdout",
     "output_type": "stream",
     "text": [
      "(4, 1)\n"
     ]
    },
    {
     "ename": "ValueError",
     "evalue": "shapes (3,) and (4,3) not aligned: 3 (dim 0) != 4 (dim 0)",
     "output_type": "error",
     "traceback": [
      "\u001b[1;31m---------------------------------------------------------------------------\u001b[0m",
      "\u001b[1;31mValueError\u001b[0m                                Traceback (most recent call last)",
      "Input \u001b[1;32mIn [9]\u001b[0m, in \u001b[0;36m<module>\u001b[1;34m\u001b[0m\n\u001b[0;32m    103\u001b[0m                 \u001b[38;5;28mprint\u001b[39m(\u001b[38;5;124m'\u001b[39m\u001b[38;5;124msolution\u001b[39m\u001b[38;5;124m'\u001b[39m,totalError)\n\u001b[0;32m    104\u001b[0m                 \u001b[38;5;28;01mbreak\u001b[39;00m;\n\u001b[1;32m--> 109\u001b[0m \u001b[43mnetwork\u001b[49m\u001b[43m(\u001b[49m\u001b[38;5;241;43m3\u001b[39;49m\u001b[43m,\u001b[49m\u001b[38;5;241;43m3\u001b[39;49m\u001b[43m,\u001b[49m\u001b[38;5;241;43m4\u001b[39;49m\u001b[43m,\u001b[49m\u001b[38;5;241;43m1\u001b[39;49m\u001b[43m)\u001b[49m       \n\u001b[0;32m    110\u001b[0m fig \u001b[38;5;241m=\u001b[39m plt\u001b[38;5;241m.\u001b[39mfigure()    \n\u001b[0;32m    111\u001b[0m ax \u001b[38;5;241m=\u001b[39m plt\u001b[38;5;241m.\u001b[39maxes(projection\u001b[38;5;241m=\u001b[39m\u001b[38;5;124m'\u001b[39m\u001b[38;5;124m3d\u001b[39m\u001b[38;5;124m'\u001b[39m)   \n",
      "Input \u001b[1;32mIn [9]\u001b[0m, in \u001b[0;36mnetwork\u001b[1;34m(features, in_nodes, hid_nodes, out_nodes)\u001b[0m\n\u001b[0;32m     64\u001b[0m u1\u001b[38;5;241m=\u001b[39mnp\u001b[38;5;241m.\u001b[39mdot(x[i],w1)\u001b[38;5;241m+\u001b[39mb1\n\u001b[0;32m     65\u001b[0m u1Act\u001b[38;5;241m=\u001b[39msigmoid(u1)\n\u001b[1;32m---> 67\u001b[0m u2\u001b[38;5;241m=\u001b[39m\u001b[43mnp\u001b[49m\u001b[38;5;241;43m.\u001b[39;49m\u001b[43mdot\u001b[49m\u001b[43m(\u001b[49m\u001b[43mu1Act\u001b[49m\u001b[43m,\u001b[49m\u001b[43mw2\u001b[49m\u001b[43m)\u001b[49m\u001b[38;5;241m+\u001b[39mb2\n\u001b[0;32m     68\u001b[0m u2Act\u001b[38;5;241m=\u001b[39msigmoid(u2)\n\u001b[0;32m     71\u001b[0m u3\u001b[38;5;241m=\u001b[39mnp\u001b[38;5;241m.\u001b[39mdot(u2Act,w3)\u001b[38;5;241m+\u001b[39mb3\n",
      "File \u001b[1;32m<__array_function__ internals>:180\u001b[0m, in \u001b[0;36mdot\u001b[1;34m(*args, **kwargs)\u001b[0m\n",
      "\u001b[1;31mValueError\u001b[0m: shapes (3,) and (4,3) not aligned: 3 (dim 0) != 4 (dim 0)"
     ]
    }
   ],
   "source": [
    "%matplotlib inline\n",
    "import numpy as np\n",
    "import random\n",
    "from matplotlib import pyplot as plt\n",
    "import math\n",
    "\n",
    "def sigmoid(uVal):\n",
    "    return (1/(1+(np.exp(-uVal))))\n",
    "\n",
    "def sigmoid_prime(uVal):\n",
    "    return uVal*(1-uVal)\n",
    "\n",
    "features=3\n",
    "lr=0.06\n",
    "errorList=[]\n",
    "\n",
    "x1=list(np.random.uniform(-0.5,0.5,50))\n",
    "y1=list(np.random.uniform(-0.5,0.5,50))\n",
    "x3=np.ones(100)\n",
    "\n",
    "t=list(np.zeros(50))\n",
    "\n",
    "deg=np.random.uniform(0,360,50)\n",
    "r=np.random.uniform(3,4,50)\n",
    "\n",
    "for i in range(0,len(deg)):\n",
    "    degInRad=(deg[i]*math.pi)/180\n",
    "    \n",
    "    r_ran=np.random.choice(r)\n",
    "    x=r_ran*math.cos(degInRad)\n",
    "    y=r_ran*math.sin(degInRad)\n",
    "     \n",
    "    x1.append(x)\n",
    "    y1.append(y)\n",
    "    t.append(1)\n",
    "t=np.array(t).reshape(100,1)\n",
    "\n",
    "x=np.array(list(zip(x1,y1,x3)))\n",
    "\n",
    "def network(features,in_nodes,hid_nodes,out_nodes):\n",
    "    w1=np.random.uniform(-2.0,2,[features,in_nodes])\n",
    "    w2=np.random.uniform(-2.0,2,[in_nodes,hid_nodes])\n",
    "    \n",
    "    w3=np.random.uniform(-2.0,2,[hid_nodes,out_nodes])\n",
    "\n",
    "    b1=np.random.uniform(-2.0,2,in_nodes)\n",
    "    b2=np.random.uniform(-2.0,2,hid_nodes)\n",
    "    b3=np.random.uniform(-2.0,2,out_nodes)\n",
    "    \n",
    "    dw1=np.zeros([features,in_nodes])\n",
    "    dw2=np.zeros([in_nodes,hid_nodes])\n",
    "    dw3=np.zeros([hid_nodes,out_nodes])\n",
    "\n",
    "    db1=np.zeros(in_nodes)\n",
    "    db2=np.zeros(hid_nodes)\n",
    "    db3=np.zeros(out_nodes)\n",
    "    \n",
    "    \n",
    "    \n",
    "    while True:\n",
    "        totalError=0\n",
    "        \n",
    "        for i in range(len(t)):\n",
    "            u1=np.dot(x[i],w1)+b1\n",
    "            u1Act=sigmoid(u1)\n",
    "            \n",
    "            u2=np.dot(u1Act,w2)+b2\n",
    "            u2Act=sigmoid(u2)\n",
    "           \n",
    "\n",
    "            u3=np.dot(u2Act,w3)+b3\n",
    "            y=sigmoid(u3)\n",
    "\n",
    "            error=((y-t[i])**2)\n",
    "            totalError+=error\n",
    "            der_error=(y-t[i])\n",
    "\n",
    "            errorList.append(error)\n",
    "            \n",
    "            dw3=np.transpose([(lr*der_error*sigmoid_prime(y))*u2Act])\n",
    "            print(np.shape(dw3))\n",
    "            db3=lr*der_error*sigmoid_prime(y)\n",
    "\n",
    "            w3=w3-dw3\n",
    "            b3=b3-db3\n",
    "\n",
    "            sum=np.sum(der_error*sigmoid_prime(y))\n",
    "            dw2=np.transpose([lr*der_error*sum*sigmoid_prime(u2Act)*hidden for hidden in u1Act])\n",
    "            db2=lr*der_error*sum*sigmoid_prime(u2Act)\n",
    "            \n",
    "            \n",
    "            w2=w2.T-dw2\n",
    "            b2=b2-db2\n",
    "            \n",
    "            sum_input=np.sum(sum*sigmoid_prime(u2Act))\n",
    "            dw1=np.transpose([lr*der_error*sum_input*sigmoid_prime(u1Act)*input for input in x[i]])\n",
    "            db1=lr*der_error*sum_input*sigmoid_prime(u1Act)\n",
    "            \n",
    "            w1=w1.T-dw1\n",
    "            b1=b1-db1\n",
    "            \n",
    "            if(totalError<0.01):\n",
    "                print('solution',totalError)\n",
    "                break;\n",
    "            \n",
    "            \n",
    "            \n",
    "\n",
    "network(3,3,4,1)       \n",
    "fig = plt.figure()    \n",
    "ax = plt.axes(projection='3d')   \n",
    "for i in range(len(x1)):\n",
    "    if(t[i]==0):\n",
    "\n",
    "        ax.scatter(x1[i],y1[i],x3[i],color='red')\n",
    "    else:\n",
    "        ax.scatter(x1[i],y1[i],x3[i],color='green')\n",
    "\n",
    "\n",
    "# x=np.linspace(-3,3,num=10)\n",
    "# y=np.linspace(-3,3,num=10)\n",
    "# x,y=np.meshgrid(x,y)\n",
    "\n",
    "# z=(-w1*x-w2*y-w4)/w3\n",
    "\n",
    "# display.display(plt.gcf()) \n",
    "# ax.plot_surface(x,y,z,alpha=0.5,color='red')\n",
    "\n",
    "# display.clear_output(wait=True)\n",
    "\n",
    "# time.sleep(0.001)\n",
    "\n",
    "\n",
    "# plt.show()\n"
   ]
  },
  {
   "cell_type": "code",
   "execution_count": 7,
   "id": "6d911b4e",
   "metadata": {},
   "outputs": [
    {
     "name": "stdout",
     "output_type": "stream",
     "text": [
      "[[0. 1. 2.]\n",
      " [3. 4. 5.]\n",
      " [6. 7. 8.]]\n",
      "[0. 1. 2.]\n"
     ]
    },
    {
     "data": {
      "text/plain": [
       "array([[ 0.,  1.,  4.],\n",
       "       [ 0.,  4., 10.],\n",
       "       [ 0.,  7., 16.]])"
      ]
     },
     "execution_count": 7,
     "metadata": {},
     "output_type": "execute_result"
    }
   ],
   "source": [
    "x1 = np.arange(9.0).reshape((3, 3))\n",
    "x2 = np.arange(3.0)\n",
    "print(x1)\n",
    "print(x2)\n",
    "x1 * x2"
   ]
  },
  {
   "cell_type": "code",
   "execution_count": 15,
   "id": "ad962288",
   "metadata": {},
   "outputs": [
    {
     "data": {
      "text/plain": [
       "array([[ 0, -1, -2, -3],\n",
       "       [ 1,  0, -1, -2],\n",
       "       [ 2,  1,  0, -1],\n",
       "       [ 3,  2,  1,  0]])"
      ]
     },
     "execution_count": 15,
     "metadata": {},
     "output_type": "execute_result"
    }
   ],
   "source": [
    "w3=np.array([[1],[2],[3],[4]])\n",
    "dw3=[1,2,3,4]\n",
    "w3-np.array(dw3)"
   ]
  },
  {
   "cell_type": "code",
   "execution_count": null,
   "id": "ec4f2000",
   "metadata": {},
   "outputs": [],
   "source": []
  }
 ],
 "metadata": {
  "kernelspec": {
   "display_name": "Python 3 (ipykernel)",
   "language": "python",
   "name": "python3"
  },
  "language_info": {
   "codemirror_mode": {
    "name": "ipython",
    "version": 3
   },
   "file_extension": ".py",
   "mimetype": "text/x-python",
   "name": "python",
   "nbconvert_exporter": "python",
   "pygments_lexer": "ipython3",
   "version": "3.10.0"
  }
 },
 "nbformat": 4,
 "nbformat_minor": 5
}
