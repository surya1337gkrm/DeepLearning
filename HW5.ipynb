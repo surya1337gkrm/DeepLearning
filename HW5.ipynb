{
 "cells": [
  {
   "cell_type": "code",
   "execution_count": 5,
   "id": "63eb712c",
   "metadata": {},
   "outputs": [],
   "source": [
    "import os"
   ]
  },
  {
   "cell_type": "code",
   "execution_count": 6,
   "id": "5990bb37",
   "metadata": {},
   "outputs": [
    {
     "name": "stdout",
     "output_type": "stream",
     "text": [
      "butterfly 1452\n",
      "cats 1456\n",
      "cow 1451\n",
      "dogs 1456\n",
      "elephant 1450\n",
      "hen 1452\n",
      "horse 1452\n",
      "monkey 1452\n",
      "panda 1201\n",
      "sheep 1452\n",
      "spider 1452\n",
      "squirrel 1452\n"
     ]
    }
   ],
   "source": [
    "base_dir = 'C:\\Masters\\Sem02_Winter2022\\DeepLearning\\DeepLearning\\AnimalImageDataset\\Animal Image Dataset'\n",
    "for i in os.listdir(base_dir):\n",
    "    print(i,len(os.listdir(os.path.join(base_dir,i))))"
   ]
  },
  {
   "cell_type": "code",
   "execution_count": 7,
   "id": "9bde7d48",
   "metadata": {},
   "outputs": [],
   "source": [
    "import tensorflow as tf\n",
    "from tensorflow.keras.preprocessing.image import ImageDataGenerator"
   ]
  },
  {
   "cell_type": "code",
   "execution_count": 145,
   "id": "4477027e",
   "metadata": {},
   "outputs": [
    {
     "name": "stdout",
     "output_type": "stream",
     "text": [
      "Found 13746 images belonging to 12 classes.\n",
      "Found 3432 images belonging to 12 classes.\n"
     ]
    }
   ],
   "source": [
    "\n",
    "train_datagen=ImageDataGenerator(rescale = 1.0/255., \n",
    "                               horizontal_flip=True,\n",
    "                                vertical_flip=True,\n",
    "                                rotation_range=90,\n",
    "                                height_shift_range=0.1,\n",
    "                                width_shift_range=0.1,\n",
    "                                zoom_range=0.1,\n",
    "                                validation_split=0.2)\n",
    "# test_datagen = ImageDataGenerator( rescale = 1.0/255. )\n",
    "\n",
    "train_generator = train_datagen.flow_from_directory(base_dir,batch_size=64,class_mode='categorical',target_size=(150, 150),subset='training')\n",
    "validation_generator = train_datagen.flow_from_directory(base_dir,batch_size=64,class_mode='categorical',target_size=(150, 150),subset='validation')\n"
   ]
  },
  {
   "cell_type": "code",
   "execution_count": 142,
   "id": "6488de09",
   "metadata": {},
   "outputs": [
    {
     "name": "stdout",
     "output_type": "stream",
     "text": [
      "Model: \"sequential_16\"\n",
      "_________________________________________________________________\n",
      " Layer (type)                Output Shape              Param #   \n",
      "=================================================================\n",
      " conv2d_13 (Conv2D)          (None, 148, 148, 16)      448       \n",
      "                                                                 \n",
      " max_pooling2d_13 (MaxPoolin  (None, 74, 74, 16)       0         \n",
      " g2D)                                                            \n",
      "                                                                 \n",
      " conv2d_14 (Conv2D)          (None, 72, 72, 32)        4640      \n",
      "                                                                 \n",
      " max_pooling2d_14 (MaxPoolin  (None, 36, 36, 32)       0         \n",
      " g2D)                                                            \n",
      "                                                                 \n",
      " conv2d_15 (Conv2D)          (None, 34, 34, 64)        18496     \n",
      "                                                                 \n",
      " max_pooling2d_15 (MaxPoolin  (None, 17, 17, 64)       0         \n",
      " g2D)                                                            \n",
      "                                                                 \n",
      " conv2d_16 (Conv2D)          (None, 15, 15, 128)       73856     \n",
      "                                                                 \n",
      " max_pooling2d_16 (MaxPoolin  (None, 7, 7, 128)        0         \n",
      " g2D)                                                            \n",
      "                                                                 \n",
      " flatten_4 (Flatten)         (None, 6272)              0         \n",
      "                                                                 \n",
      " dense_11 (Dense)            (None, 256)               1605888   \n",
      "                                                                 \n",
      " dense_12 (Dense)            (None, 256)               65792     \n",
      "                                                                 \n",
      " dense_13 (Dense)            (None, 12)                3084      \n",
      "                                                                 \n",
      "=================================================================\n",
      "Total params: 1,772,204\n",
      "Trainable params: 1,772,204\n",
      "Non-trainable params: 0\n",
      "_________________________________________________________________\n"
     ]
    }
   ],
   "source": [
    "model=tf.keras.models.Sequential([\n",
    "    tf.keras.layers.Conv2D(16,(3,3),activation='relu',input_shape=(150,150,3)),\n",
    "    tf.keras.layers.MaxPooling2D(2,2),\n",
    "    tf.keras.layers.Conv2D(32,(3,3),activation='relu'),\n",
    "    tf.keras.layers.MaxPooling2D(2,2),\n",
    "    tf.keras.layers.Conv2D(64,(3,3),activation='relu'),\n",
    "    tf.keras.layers.MaxPooling2D(2,2),\n",
    "    tf.keras.layers.Conv2D(128,(3,3),activation='relu'),\n",
    "    tf.keras.layers.MaxPooling2D(2,2),\n",
    "    \n",
    "    tf.keras.layers.Flatten(),\n",
    "    \n",
    "    tf.keras.layers.Dense(256, activation='relu'),\n",
    "    tf.keras.layers.Dense(256, activation='relu'),\n",
    "    tf.keras.layers.Dense(12, activation='softmax')\n",
    "])\n",
    "\n",
    "model.summary()"
   ]
  },
  {
   "cell_type": "code",
   "execution_count": 147,
   "id": "5ce8f358",
   "metadata": {},
   "outputs": [],
   "source": [
    "from tensorflow.keras.optimizers import RMSprop\n",
    "from tensorflow.keras.optimizers import Adam\n",
    "\n",
    "model.compile(optimizer=Adam(learning_rate=0.001),loss=tf.keras.losses.categorical_crossentropy,metrics=['acc'])"
   ]
  },
  {
   "cell_type": "code",
   "execution_count": null,
   "id": "3a1fe39e",
   "metadata": {},
   "outputs": [
    {
     "name": "stdout",
     "output_type": "stream",
     "text": [
      "Epoch 1/50\n",
      "215/215 - 1110s - loss: 1.1283 - acc: 0.6065 - val_loss: 1.3638 - val_acc: 0.5478 - 1110s/epoch - 5s/step\n",
      "Epoch 2/50\n",
      "215/215 - 1120s - loss: 1.0841 - acc: 0.6239 - val_loss: 1.3744 - val_acc: 0.5536 - 1120s/epoch - 5s/step\n",
      "Epoch 3/50\n",
      "215/215 - 955s - loss: 1.0741 - acc: 0.6299 - val_loss: 1.3388 - val_acc: 0.5650 - 955s/epoch - 4s/step\n",
      "Epoch 4/50\n"
     ]
    }
   ],
   "source": [
    "\n",
    "history = model.fit(train_generator,\n",
    "                    validation_data=validation_generator,\n",
    "                    epochs=50,\n",
    "                    verbose=2)"
   ]
  },
  {
   "cell_type": "code",
   "execution_count": 69,
   "id": "b22c80bb",
   "metadata": {},
   "outputs": [],
   "source": [
    "model.save('C:\\Masters\\Sem02_Winter2022\\DeepLearning\\DeepLearning\\AnimalImageDataset\\AnimalModel.h5')\n"
   ]
  },
  {
   "cell_type": "code",
   "execution_count": 37,
   "id": "ad6028aa",
   "metadata": {},
   "outputs": [
    {
     "name": "stdout",
     "output_type": "stream",
     "text": [
      "Model: \"sequential_26\"\n",
      "_________________________________________________________________\n",
      " Layer (type)                Output Shape              Param #   \n",
      "=================================================================\n",
      " conv2d_52 (Conv2D)          (None, 148, 148, 128)     3584      \n",
      "                                                                 \n",
      " max_pooling2d_48 (MaxPoolin  (None, 74, 74, 128)      0         \n",
      " g2D)                                                            \n",
      "                                                                 \n",
      " conv2d_53 (Conv2D)          (None, 72, 72, 64)        73792     \n",
      "                                                                 \n",
      " max_pooling2d_49 (MaxPoolin  (None, 36, 36, 64)       0         \n",
      " g2D)                                                            \n",
      "                                                                 \n",
      " conv2d_54 (Conv2D)          (None, 34, 34, 32)        18464     \n",
      "                                                                 \n",
      " max_pooling2d_50 (MaxPoolin  (None, 17, 17, 32)       0         \n",
      " g2D)                                                            \n",
      "                                                                 \n",
      " flatten_16 (Flatten)        (None, 9248)              0         \n",
      "                                                                 \n",
      " dropout_3 (Dropout)         (None, 9248)              0         \n",
      "                                                                 \n",
      " dense_34 (Dense)            (None, 512)               4735488   \n",
      "                                                                 \n",
      " dropout_4 (Dropout)         (None, 512)               0         \n",
      "                                                                 \n",
      " dense_35 (Dense)            (None, 64)                32832     \n",
      "                                                                 \n",
      " dropout_5 (Dropout)         (None, 64)                0         \n",
      "                                                                 \n",
      " dense_36 (Dense)            (None, 12)                780       \n",
      "                                                                 \n",
      "=================================================================\n",
      "Total params: 4,864,940\n",
      "Trainable params: 4,864,940\n",
      "Non-trainable params: 0\n",
      "_________________________________________________________________\n"
     ]
    }
   ],
   "source": [
    "modelSaved=tf.keras.models.load_model('C:\\Masters\\Sem02_Winter2022\\DeepLearning\\DeepLearning\\AnimalModel.h5')\n",
    "modelSaved.summary()"
   ]
  },
  {
   "cell_type": "code",
   "execution_count": 55,
   "id": "887ad184",
   "metadata": {},
   "outputs": [
    {
     "name": "stdout",
     "output_type": "stream",
     "text": [
      "[[1.68823310e-12 2.96006726e-11 1.93933127e-15 9.94523048e-01\n",
      "  5.30781572e-20 2.48943146e-13 6.95375535e-09 1.39474275e-03\n",
      "  1.24406522e-16 1.30582114e-14 2.65639217e-04 3.81654873e-03]]\n",
      "3 3\n"
     ]
    },
    {
     "data": {
      "text/plain": [
       "'dogs'"
      ]
     },
     "execution_count": 55,
     "metadata": {},
     "output_type": "execute_result"
    }
   ],
   "source": [
    "from keras.preprocessing import image\n",
    "import numpy as np\n",
    "img=image.load_img('C:/Masters/Sem02_Winter2022/DeepLearning/DeepLearning/AnimalImageDataset/test.jpg',target_size=(150,150))\n",
    "x=image.img_to_array(img)\n",
    "x=np.expand_dims(x,axis=0)\n",
    "images=np.vstack([x])\n",
    "classes = modelSaved.predict(images)\n",
    "print(classes)\n",
    "classIndex=np.where(classes==np.max(classes))[1][0]\n",
    "pClass=os.listdir(base_dir)[classIndex]\n",
    "print(np.argmax(classes),classIndex)\n",
    "pClass"
   ]
  },
  {
   "cell_type": "code",
   "execution_count": 29,
   "id": "34969b9f",
   "metadata": {},
   "outputs": [
    {
     "data": {
      "text/plain": [
       "{'butterfly': 0,\n",
       " 'cats': 1,\n",
       " 'cow': 2,\n",
       " 'dogs': 3,\n",
       " 'elephant': 4,\n",
       " 'hen': 5,\n",
       " 'horse': 6,\n",
       " 'monkey': 7,\n",
       " 'panda': 8,\n",
       " 'sheep': 9,\n",
       " 'spider': 10,\n",
       " 'squirrel': 11}"
      ]
     },
     "execution_count": 29,
     "metadata": {},
     "output_type": "execute_result"
    }
   ],
   "source": [
    "train_generator.class_indices"
   ]
  },
  {
   "cell_type": "code",
   "execution_count": 56,
   "id": "ff1cb5b4",
   "metadata": {},
   "outputs": [
    {
     "name": "stdout",
     "output_type": "stream",
     "text": [
      "Model: \"sequential_2\"\n",
      "_________________________________________________________________\n",
      " Layer (type)                Output Shape              Param #   \n",
      "=================================================================\n",
      " conv2d_52 (Conv2D)          (None, 148, 148, 128)     3584      \n",
      "                                                                 \n",
      " max_pooling2d_48 (MaxPoolin  (None, 74, 74, 128)      0         \n",
      " g2D)                                                            \n",
      "                                                                 \n",
      " conv2d_53 (Conv2D)          (None, 72, 72, 64)        73792     \n",
      "                                                                 \n",
      " max_pooling2d_49 (MaxPoolin  (None, 36, 36, 64)       0         \n",
      " g2D)                                                            \n",
      "                                                                 \n",
      " conv2d_54 (Conv2D)          (None, 34, 34, 32)        18464     \n",
      "                                                                 \n",
      " max_pooling2d_50 (MaxPoolin  (None, 17, 17, 32)       0         \n",
      " g2D)                                                            \n",
      "                                                                 \n",
      " flatten_16 (Flatten)        (None, 9248)              0         \n",
      "                                                                 \n",
      " dropout_3 (Dropout)         (None, 9248)              0         \n",
      "                                                                 \n",
      " dense_34 (Dense)            (None, 512)               4735488   \n",
      "                                                                 \n",
      " dropout_4 (Dropout)         (None, 512)               0         \n",
      "                                                                 \n",
      "=================================================================\n",
      "Total params: 4,831,328\n",
      "Trainable params: 4,831,328\n",
      "Non-trainable params: 0\n",
      "_________________________________________________________________\n"
     ]
    }
   ],
   "source": [
    "newModel=tf.keras.models.Sequential()\n",
    "for i in modelSaved.layers[:-3]:\n",
    " \n",
    "    newModel.add(i)\n",
    "newModel.summary()"
   ]
  },
  {
   "cell_type": "code",
   "execution_count": 57,
   "id": "5bcb25e8",
   "metadata": {},
   "outputs": [
    {
     "data": {
      "text/plain": [
       "1456"
      ]
     },
     "execution_count": 57,
     "metadata": {},
     "output_type": "execute_result"
    }
   ],
   "source": [
    "featureList=[]\n",
    "namesList=[]\n",
    "count=0\n",
    "for i in os.listdir(os.path.join(base_dir,pClass)):\n",
    "    imgPath=os.path.join(os.path.join(base_dir,pClass),i)\n",
    "    img=image.load_img(imgPath,target_size=(150,150))\n",
    "    x=image.img_to_array(img)\n",
    "    x=np.expand_dims(x,axis=0)\n",
    "    images=np.vstack([x])\n",
    "    feature = newModel.predict(x, batch_size=10)\n",
    "    featureList.append(feature)\n",
    "    namesList.append(imgPath)\n",
    "    count+=1\n",
    "count    "
   ]
  },
  {
   "cell_type": "code",
   "execution_count": 58,
   "id": "b20cb95b",
   "metadata": {},
   "outputs": [
    {
     "data": {
      "text/plain": [
       "array([[3.0088055e+01, 0.0000000e+00, 1.0921204e+01, 0.0000000e+00,\n",
       "        3.3910610e+01, 1.1373730e+01, 1.0615770e+00, 0.0000000e+00,\n",
       "        2.6605162e+01, 2.7397038e+01, 1.2440969e+00, 4.6236277e-01,\n",
       "        1.8929646e+01, 0.0000000e+00, 1.5775904e+01, 0.0000000e+00,\n",
       "        0.0000000e+00, 0.0000000e+00, 0.0000000e+00, 0.0000000e+00,\n",
       "        3.5332000e+00, 0.0000000e+00, 4.0704436e+00, 1.8766588e+01,\n",
       "        4.7589582e-01, 1.5839007e+01, 0.0000000e+00, 3.0031674e+00,\n",
       "        1.2231685e+01, 0.0000000e+00, 2.4289908e+00, 1.1364193e+01,\n",
       "        0.0000000e+00, 0.0000000e+00, 4.2499914e+00, 5.6683472e+01,\n",
       "        1.7768950e+01, 1.1062790e+01, 1.2686531e+01, 0.0000000e+00,\n",
       "        6.3840145e+01, 0.0000000e+00, 1.7840773e+01, 8.0759001e+00,\n",
       "        0.0000000e+00, 0.0000000e+00, 0.0000000e+00, 0.0000000e+00,\n",
       "        9.0528212e+00, 0.0000000e+00, 0.0000000e+00, 0.0000000e+00,\n",
       "        0.0000000e+00, 0.0000000e+00, 3.1687235e+01, 0.0000000e+00,\n",
       "        0.0000000e+00, 4.5720887e+00, 7.7080214e-01, 7.7940154e+00,\n",
       "        8.6260223e+00, 0.0000000e+00, 7.4309921e+00, 4.2174435e+00,\n",
       "        0.0000000e+00, 0.0000000e+00, 1.1865602e+00, 1.6209908e+01,\n",
       "        2.1489317e+01, 0.0000000e+00, 1.4127637e+01, 0.0000000e+00,\n",
       "        0.0000000e+00, 0.0000000e+00, 1.2164957e+01, 7.0008435e+00,\n",
       "        1.1615348e+01, 0.0000000e+00, 0.0000000e+00, 0.0000000e+00,\n",
       "        0.0000000e+00, 0.0000000e+00, 2.6425974e+01, 1.4445027e+01,\n",
       "        0.0000000e+00, 2.6980709e+01, 4.9368858e+00, 0.0000000e+00,\n",
       "        1.1245721e+01, 2.2758482e+01, 0.0000000e+00, 3.0057598e+01,\n",
       "        5.7027483e+00, 2.0279764e+01, 0.0000000e+00, 4.3681917e+00,\n",
       "        3.3201640e+00, 5.1029096e+00, 4.4336777e+01, 0.0000000e+00,\n",
       "        5.0879698e+00, 0.0000000e+00, 5.9103141e+00, 0.0000000e+00,\n",
       "        4.0084728e+01, 0.0000000e+00, 0.0000000e+00, 1.1103371e+01,\n",
       "        0.0000000e+00, 0.0000000e+00, 1.7068544e+01, 0.0000000e+00,\n",
       "        0.0000000e+00, 1.0909824e+01, 1.1612823e+01, 0.0000000e+00,\n",
       "        0.0000000e+00, 0.0000000e+00, 0.0000000e+00, 1.6898771e+01,\n",
       "        6.2942252e+00, 2.1703728e+01, 6.6854815e+00, 1.8569304e+01,\n",
       "        1.3874375e+01, 1.1545340e+01, 1.5129555e+01, 0.0000000e+00,\n",
       "        1.8640877e+01, 0.0000000e+00, 0.0000000e+00, 0.0000000e+00,\n",
       "        0.0000000e+00, 3.3427265e+01, 5.0097523e+00, 8.7844229e+00,\n",
       "        2.4501665e+01, 4.5245104e+00, 3.5815231e+01, 3.1525970e+01,\n",
       "        0.0000000e+00, 0.0000000e+00, 0.0000000e+00, 2.5783497e+01,\n",
       "        0.0000000e+00, 0.0000000e+00, 0.0000000e+00, 7.6972542e+00,\n",
       "        9.1595383e+00, 0.0000000e+00, 7.8815455e+00, 9.0636301e+00,\n",
       "        1.2487412e+01, 0.0000000e+00, 0.0000000e+00, 0.0000000e+00,\n",
       "        0.0000000e+00, 0.0000000e+00, 0.0000000e+00, 0.0000000e+00,\n",
       "        6.1207980e-01, 0.0000000e+00, 0.0000000e+00, 0.0000000e+00,\n",
       "        7.6794543e+00, 1.3847067e+01, 0.0000000e+00, 9.4325542e+00,\n",
       "        9.9291992e+00, 1.0086100e+01, 0.0000000e+00, 1.3812617e+01,\n",
       "        0.0000000e+00, 0.0000000e+00, 0.0000000e+00, 0.0000000e+00,\n",
       "        3.2697556e+00, 0.0000000e+00, 1.7532057e+01, 7.0450521e+00,\n",
       "        1.3838209e+01, 0.0000000e+00, 2.7790560e+01, 0.0000000e+00,\n",
       "        0.0000000e+00, 0.0000000e+00, 0.0000000e+00, 0.0000000e+00,\n",
       "        1.8297270e+01, 0.0000000e+00, 1.7746773e+01, 0.0000000e+00,\n",
       "        1.0431476e+01, 4.0759020e+00, 1.8831924e+01, 1.1368676e+01,\n",
       "        4.2688332e+00, 1.1989228e+00, 1.2801250e+01, 2.0268713e+01,\n",
       "        0.0000000e+00, 0.0000000e+00, 1.8468561e+01, 0.0000000e+00,\n",
       "        1.5172468e+01, 0.0000000e+00, 0.0000000e+00, 0.0000000e+00,\n",
       "        4.3948278e+00, 0.0000000e+00, 6.4964741e-01, 1.3122121e+01,\n",
       "        8.9734888e+00, 2.0153208e+00, 0.0000000e+00, 2.5563507e+00,\n",
       "        0.0000000e+00, 1.6411835e+01, 0.0000000e+00, 0.0000000e+00,\n",
       "        0.0000000e+00, 6.0975842e+00, 0.0000000e+00, 3.1044259e+00,\n",
       "        0.0000000e+00, 3.1238461e+01, 0.0000000e+00, 8.1098080e+00,\n",
       "        0.0000000e+00, 1.2932587e+01, 0.0000000e+00, 2.4812338e+01,\n",
       "        1.6204971e+01, 9.4666433e+00, 3.4590900e+01, 1.4541036e+00,\n",
       "        3.0057011e+01, 0.0000000e+00, 0.0000000e+00, 0.0000000e+00,\n",
       "        0.0000000e+00, 2.6919184e+01, 0.0000000e+00, 1.0821388e+01,\n",
       "        0.0000000e+00, 2.0251686e+01, 0.0000000e+00, 1.3787846e+01,\n",
       "        0.0000000e+00, 1.7608640e+00, 0.0000000e+00, 1.3367342e+01,\n",
       "        0.0000000e+00, 0.0000000e+00, 1.3585477e+01, 1.2217037e+01,\n",
       "        2.5471342e+01, 0.0000000e+00, 9.4584398e+00, 0.0000000e+00,\n",
       "        0.0000000e+00, 5.6799213e+01, 4.9909237e-01, 1.4895570e+01,\n",
       "        2.5883419e+01, 1.7097466e+01, 0.0000000e+00, 0.0000000e+00,\n",
       "        0.0000000e+00, 1.3214960e+01, 1.1421209e+01, 2.2023464e+01,\n",
       "        9.7164088e-01, 0.0000000e+00, 9.2823362e+00, 0.0000000e+00,\n",
       "        3.0233383e+00, 1.8082209e+01, 1.3587996e+01, 0.0000000e+00,\n",
       "        1.3073786e+00, 0.0000000e+00, 0.0000000e+00, 0.0000000e+00,\n",
       "        1.2843861e+01, 0.0000000e+00, 0.0000000e+00, 0.0000000e+00,\n",
       "        4.3962692e+01, 9.3645887e+00, 0.0000000e+00, 2.6428165e+01,\n",
       "        4.3455682e+00, 1.1470266e+01, 3.4089275e+01, 0.0000000e+00,\n",
       "        5.6679029e+00, 0.0000000e+00, 0.0000000e+00, 9.5218782e+00,\n",
       "        0.0000000e+00, 4.1711946e+00, 0.0000000e+00, 1.6872631e+01,\n",
       "        0.0000000e+00, 0.0000000e+00, 4.0458218e+01, 0.0000000e+00,\n",
       "        0.0000000e+00, 1.1444764e+01, 2.2523649e+01, 0.0000000e+00,\n",
       "        0.0000000e+00, 0.0000000e+00, 5.5656743e-01, 1.0197170e+01,\n",
       "        4.5154791e+00, 0.0000000e+00, 0.0000000e+00, 3.4486347e+01,\n",
       "        2.0413435e+01, 0.0000000e+00, 0.0000000e+00, 0.0000000e+00,\n",
       "        2.0628774e+00, 0.0000000e+00, 2.7330751e+01, 9.1157436e+00,\n",
       "        2.9573673e+01, 1.4507375e+00, 2.1076620e+01, 0.0000000e+00,\n",
       "        0.0000000e+00, 1.7455626e+01, 0.0000000e+00, 0.0000000e+00,\n",
       "        8.3693523e+00, 9.9487734e+00, 0.0000000e+00, 6.3476763e+00,\n",
       "        0.0000000e+00, 0.0000000e+00, 3.2064098e+01, 2.3407591e+01,\n",
       "        2.5088476e+01, 0.0000000e+00, 3.0301487e+01, 0.0000000e+00,\n",
       "        1.6285845e+01, 6.4870687e+00, 0.0000000e+00, 0.0000000e+00,\n",
       "        0.0000000e+00, 0.0000000e+00, 9.4486418e+00, 5.6937988e+01,\n",
       "        0.0000000e+00, 2.4731577e+01, 0.0000000e+00, 1.4574606e+01,\n",
       "        3.2400336e+00, 1.7294462e+01, 0.0000000e+00, 2.7503412e+00,\n",
       "        0.0000000e+00, 1.2697688e+00, 1.7388700e+01, 4.4554110e+00,\n",
       "        3.5631180e-02, 0.0000000e+00, 0.0000000e+00, 4.7749012e+01,\n",
       "        1.3731839e+01, 9.0207024e+00, 1.3139897e+01, 1.6331238e+01,\n",
       "        0.0000000e+00, 0.0000000e+00, 0.0000000e+00, 4.4467726e+00,\n",
       "        9.8086510e+00, 2.6627926e+01, 4.1929623e+01, 0.0000000e+00,\n",
       "        0.0000000e+00, 0.0000000e+00, 1.5281681e+01, 0.0000000e+00,\n",
       "        9.8600616e+00, 5.2740741e+00, 1.8428473e+01, 2.1003590e+01,\n",
       "        3.3953552e+01, 1.1499430e+01, 0.0000000e+00, 2.6892471e+01,\n",
       "        0.0000000e+00, 2.5026534e+00, 0.0000000e+00, 1.2930389e+01,\n",
       "        1.1658175e+01, 0.0000000e+00, 1.2457792e+01, 1.1764879e+01,\n",
       "        0.0000000e+00, 0.0000000e+00, 1.2062098e+01, 0.0000000e+00,\n",
       "        0.0000000e+00, 1.4581223e+01, 0.0000000e+00, 7.8046689e+00,\n",
       "        6.4336953e+00, 2.8442368e+01, 3.2320175e+01, 0.0000000e+00,\n",
       "        4.5431507e+01, 1.7019430e+01, 1.9110162e+00, 0.0000000e+00,\n",
       "        0.0000000e+00, 0.0000000e+00, 0.0000000e+00, 0.0000000e+00,\n",
       "        4.0350548e+01, 5.3751644e+01, 8.1022561e-02, 5.7929063e+00,\n",
       "        0.0000000e+00, 2.4439125e+01, 0.0000000e+00, 0.0000000e+00,\n",
       "        8.2960367e+00, 1.6609480e+01, 0.0000000e+00, 1.0405618e+01,\n",
       "        0.0000000e+00, 3.0219212e+00, 1.6012684e+01, 0.0000000e+00,\n",
       "        0.0000000e+00, 3.3748020e+01, 1.0529874e+01, 2.2037294e+00,\n",
       "        2.0478773e+01, 2.3001165e+01, 5.8295288e+01, 1.5052877e+01,\n",
       "        0.0000000e+00, 0.0000000e+00, 0.0000000e+00, 0.0000000e+00,\n",
       "        8.1605377e+00, 3.5838614e+00, 2.4547806e+01, 0.0000000e+00,\n",
       "        8.5391235e+00, 1.4300730e+01, 0.0000000e+00, 2.4366646e+01,\n",
       "        1.3550074e+01, 2.0750738e+01, 1.6076382e+01, 1.5025454e+01,\n",
       "        7.7458920e+00, 0.0000000e+00, 3.4938492e+01, 6.8707194e+00,\n",
       "        0.0000000e+00, 6.9909368e+00, 4.3231058e+00, 1.0251914e+01,\n",
       "        0.0000000e+00, 0.0000000e+00, 0.0000000e+00, 2.6654371e+01,\n",
       "        2.6081676e+01, 0.0000000e+00, 0.0000000e+00, 5.6050067e+00,\n",
       "        1.7685612e+01, 0.0000000e+00, 2.4042678e+00, 2.9411285e+01,\n",
       "        1.8559944e+01, 2.3559952e+01, 1.6140486e+01, 0.0000000e+00,\n",
       "        0.0000000e+00, 7.2289362e+00, 0.0000000e+00, 1.7233742e+01,\n",
       "        8.2628918e+00, 2.5114422e+01, 0.0000000e+00, 4.3438201e+00,\n",
       "        1.4628091e+01, 0.0000000e+00, 0.0000000e+00, 0.0000000e+00,\n",
       "        0.0000000e+00, 7.8894548e+00, 7.6275725e+00, 1.1181813e+01,\n",
       "        0.0000000e+00, 0.0000000e+00, 0.0000000e+00, 1.5304815e+01,\n",
       "        0.0000000e+00, 2.9823008e+00, 0.0000000e+00, 9.7153826e+00]],\n",
       "      dtype=float32)"
      ]
     },
     "execution_count": 58,
     "metadata": {},
     "output_type": "execute_result"
    }
   ],
   "source": [
    "from keras.preprocessing import image\n",
    "img=image.load_img('C:/Masters/Sem02_Winter2022/DeepLearning/DeepLearning/AnimalImageDataset/test.jpg',target_size=(150,150))\n",
    "x=image.img_to_array(img)\n",
    "x=np.expand_dims(x,axis=0)\n",
    "images=np.vstack([x])\n",
    "inputFeature=newModel.predict(x,batch_size=10)\n",
    "inputFeature"
   ]
  },
  {
   "cell_type": "code",
   "execution_count": 59,
   "id": "b09eab80",
   "metadata": {},
   "outputs": [
    {
     "data": {
      "text/plain": [
       "(75.14877319335938, 315)"
      ]
     },
     "execution_count": 59,
     "metadata": {},
     "output_type": "execute_result"
    }
   ],
   "source": [
    "from scipy.spatial import distance\n",
    "distanceList=[]\n",
    "\n",
    "for i in featureList:\n",
    "    distanceList.append(distance.euclidean(inputFeature,i))\n",
    "    \n",
    "minDist=min(distanceList)\n",
    "#print(distanceList)\n",
    "minIndex=distanceList.index(minDist)\n",
    "minDist,minIndex"
   ]
  },
  {
   "cell_type": "code",
   "execution_count": 60,
   "id": "b726e029",
   "metadata": {},
   "outputs": [
    {
     "data": {
      "text/plain": [
       "'C:\\\\Masters\\\\Sem02_Winter2022\\\\DeepLearning\\\\DeepLearning\\\\AnimalImageDataset\\\\Animal Image Dataset\\\\dogs\\\\dogs_00316.jpg'"
      ]
     },
     "execution_count": 60,
     "metadata": {},
     "output_type": "execute_result"
    }
   ],
   "source": [
    "imgMatch=namesList[minIndex]\n",
    "imgMatch"
   ]
  },
  {
   "cell_type": "code",
   "execution_count": 17,
   "id": "890862ea",
   "metadata": {},
   "outputs": [
    {
     "ename": "NameError",
     "evalue": "name 'history' is not defined",
     "output_type": "error",
     "traceback": [
      "\u001b[1;31m---------------------------------------------------------------------------\u001b[0m",
      "\u001b[1;31mNameError\u001b[0m                                 Traceback (most recent call last)",
      "Input \u001b[1;32mIn [17]\u001b[0m, in \u001b[0;36m<cell line: 2>\u001b[1;34m()\u001b[0m\n\u001b[0;32m      1\u001b[0m \u001b[38;5;28;01mimport\u001b[39;00m \u001b[38;5;21;01mmatplotlib\u001b[39;00m\u001b[38;5;21;01m.\u001b[39;00m\u001b[38;5;21;01mpyplot\u001b[39;00m \u001b[38;5;28;01mas\u001b[39;00m \u001b[38;5;21;01mplt\u001b[39;00m\n\u001b[1;32m----> 2\u001b[0m acc \u001b[38;5;241m=\u001b[39m history\u001b[38;5;241m.\u001b[39mhistory[ \u001b[38;5;124m'\u001b[39m\u001b[38;5;124macc\u001b[39m\u001b[38;5;124m'\u001b[39m ]\n\u001b[0;32m      3\u001b[0m val_acc \u001b[38;5;241m=\u001b[39m history\u001b[38;5;241m.\u001b[39mhistory[ \u001b[38;5;124m'\u001b[39m\u001b[38;5;124mval_acc\u001b[39m\u001b[38;5;124m'\u001b[39m ]\n\u001b[0;32m      4\u001b[0m loss \u001b[38;5;241m=\u001b[39m history\u001b[38;5;241m.\u001b[39mhistory[ \u001b[38;5;124m'\u001b[39m\u001b[38;5;124mloss\u001b[39m\u001b[38;5;124m'\u001b[39m ]\n",
      "\u001b[1;31mNameError\u001b[0m: name 'history' is not defined"
     ]
    }
   ],
   "source": [
    "import matplotlib.pyplot as plt\n",
    "acc = history.history[ 'acc' ]\n",
    "val_acc = history.history[ 'val_acc' ]\n",
    "loss = history.history[ 'loss' ]\n",
    "val_loss = history.history['val_loss' ]\n",
    "epochs = range(len(acc)) # Get number of epochs\n",
    "\n",
    "\n",
    "ax=plt.figure(figsize=(15,7))\n",
    "ax1=ax.add_subplot(1,2,1)\n",
    "plt.title ('Training and validation accuracy')\n",
    "\n",
    "\n",
    "ax1.plot ( epochs, acc,label='Training Accuracy' )\n",
    "ax1.plot ( epochs, val_acc ,label='Validation Accuracy')\n",
    "ax1.legend()\n",
    "\n",
    "ax2=ax.add_subplot(1,2,2)\n",
    "ax2.plot ( epochs, loss,label='Training Loss')\n",
    "ax2.plot ( epochs, val_loss ,label='Validation Loss')\n",
    "plt.title ('Training and validation loss' )\n",
    "ax2.legend()\n",
    "\n",
    "plt.show()\n"
   ]
  },
  {
   "cell_type": "code",
   "execution_count": 61,
   "id": "d80331c3",
   "metadata": {},
   "outputs": [
    {
     "data": {
      "text/plain": [
       "<matplotlib.image.AxesImage at 0x1922a15a100>"
      ]
     },
     "execution_count": 61,
     "metadata": {},
     "output_type": "execute_result"
    },
    {
     "data": {
      "image/png": "[encoded data removed]",
      "text/plain": [
       "<Figure size 432x288 with 2 Axes>"
      ]
     },
     "metadata": {
      "needs_background": "light"
     },
     "output_type": "display_data"
    }
   ],
   "source": [
    "import matplotlib.image as mpimg\n",
    "import matplotlib.pyplot as plt\n",
    "\n",
    "image=mpimg.imread('C:/Masters/Sem02_Winter2022/DeepLearning/DeepLearning/AnimalImageDataset/test.jpg')\n",
    "plt.subplot(1,2,1)\n",
    "plt.imshow(image)\n",
    "image2=mpimg.imread(imgMatch)\n",
    "plt.subplot(1,2,2)\n",
    "\n",
    "plt.imshow(image2)"
   ]
  },
  {
   "cell_type": "code",
   "execution_count": 20,
   "id": "90fe9ca3",
   "metadata": {},
   "outputs": [],
   "source": [
    "model_reduced = tf.keras.Sequential()\n",
    "\n",
    "for layer in modelSaved.layers[:-3]:\n",
    "    model_reduced.add(layer)"
   ]
  },
  {
   "cell_type": "code",
   "execution_count": 21,
   "id": "444ee7dd",
   "metadata": {},
   "outputs": [
    {
     "name": "stdout",
     "output_type": "stream",
     "text": [
      "Model: \"sequential_1\"\n",
      "_________________________________________________________________\n",
      " Layer (type)                Output Shape              Param #   \n",
      "=================================================================\n",
      " conv2d_52 (Conv2D)          (None, 148, 148, 128)     3584      \n",
      "                                                                 \n",
      " max_pooling2d_48 (MaxPoolin  (None, 74, 74, 128)      0         \n",
      " g2D)                                                            \n",
      "                                                                 \n",
      " conv2d_53 (Conv2D)          (None, 72, 72, 64)        73792     \n",
      "                                                                 \n",
      " max_pooling2d_49 (MaxPoolin  (None, 36, 36, 64)       0         \n",
      " g2D)                                                            \n",
      "                                                                 \n",
      " conv2d_54 (Conv2D)          (None, 34, 34, 32)        18464     \n",
      "                                                                 \n",
      " max_pooling2d_50 (MaxPoolin  (None, 17, 17, 32)       0         \n",
      " g2D)                                                            \n",
      "                                                                 \n",
      " flatten_16 (Flatten)        (None, 9248)              0         \n",
      "                                                                 \n",
      " dropout_3 (Dropout)         (None, 9248)              0         \n",
      "                                                                 \n",
      " dense_34 (Dense)            (None, 512)               4735488   \n",
      "                                                                 \n",
      " dropout_4 (Dropout)         (None, 512)               0         \n",
      "                                                                 \n",
      "=================================================================\n",
      "Total params: 4,831,328\n",
      "Trainable params: 4,831,328\n",
      "Non-trainable params: 0\n",
      "_________________________________________________________________\n"
     ]
    }
   ],
   "source": [
    "model_reduced.summary()"
   ]
  },
  {
   "cell_type": "code",
   "execution_count": 152,
   "id": "63964172",
   "metadata": {},
   "outputs": [],
   "source": [
    "import pandas as pd\n",
    "import numpy as np\n",
    "import os,cv2\n",
    "tensorPath='C:/Masters/Sem02_Winter2022/DeepLearning/DeepLearning/AnimalImageDataset/tensorboard'\n",
    "dataDir=os.listdir(tensorPath)\n",
    "classLabels={'butterfly': 0,'cats': 1,'cow': 2,'dogs': 3,'elephant': 4,'hen': 5,'horse': 6,'monkey': 7,'panda': 8,'sheep': 9,'spider': 10,'squirrel': 11}\n",
    "df=pd.DataFrame(columns=['imageNames','labels','classNames'])\n",
    "for data in dataDir:\n",
    "    \n",
    "    imglist=os.listdir(os.path.join(tensorPath,data))\n",
    "    \n",
    "    label=classLabels[data]\n",
    "    for img in imglist:\n",
    "        imageName=os.path.join(tensorPath,data,img)\n",
    "        df=df.append({'imageNames':imageName,'labels':label,'classNames':data},ignore_index=True)\n",
    "df.to_csv(os.path.join('C:/Masters/Sem02_Winter2022/DeepLearning/DeepLearning/AnimalImageDataset','tensor.csv'))      "
   ]
  },
  {
   "cell_type": "code",
   "execution_count": 153,
   "id": "8726dce2",
   "metadata": {},
   "outputs": [],
   "source": [
    "import cv2\n",
    "import os, argparse\n",
    "import pickle\n",
    "from keras.preprocessing import image\n",
    "import numpy as np\n",
    "from numpy import asarray\n",
    "from keras.preprocessing.image import img_to_array\n",
    "\n",
    "data_path = 'C:/Masters/Sem02_Winter2022/DeepLearning/DeepLearning/AnimalImageDataset/tensorboard'\n",
    "data_dir_list = os.listdir(data_path)\n",
    "image_features_list=[]\n",
    "image_name_feature =[]\n",
    "def get_image_features(image_file_name):\n",
    "    im=image.load_img(image_file_name,target_size=(150,150))\n",
    "    im=image.img_to_array(im)\n",
    "    im=np.expand_dims(im,axis=0)\n",
    "    image_feature=model_reduced.predict(im)\n",
    "    return image_feature"
   ]
  },
  {
   "cell_type": "code",
   "execution_count": 154,
   "id": "6060a9c8",
   "metadata": {},
   "outputs": [],
   "source": [
    "import os,cv2\n",
    "import numpy as np\n",
    "import matplotlib.pyplot as plt\n",
    "import pickle\n",
    "import tensorflow as tf\n",
    "import tensorflow_datasets as tfds\n",
    "from tensorboard.plugins import projector\n",
    "import pandas as pd\n",
    "\n",
    "LOG_DIR='C:\\\\Masters\\\\Sem02_Winter2022\\\\DeepLearning\\\\DeepLearning\\\\AnimalImageDataset\\\\embdeddingLogs'\n",
    "if not os.path.exists(LOG_DIR):\n",
    "    os.makedirs(LOG_DIR)\n",
    "    \n",
    "dataCSV=pd.read_csv('C:\\\\Masters\\\\Sem02_Winter2022\\\\DeepLearning\\\\DeepLearning\\\\AnimalImageDataset\\\\tensor.csv',\n",
    "                   usecols=['imageNames','labels','classNames']) \n",
    "metadata_file=open(os.path.join(LOG_DIR,'metadata_12classes.tsv'),'w')\n",
    "metadata_file.write('class\\tName\\n')\n",
    "for label,name in zip(dataCSV.labels,dataCSV.classNames):\n",
    "    metadata_file.write('{}\\t{}\\n'.format(label,name))\n",
    "metadata_file.close()    "
   ]
  },
  {
   "cell_type": "code",
   "execution_count": 155,
   "id": "d4267b2a",
   "metadata": {},
   "outputs": [],
   "source": [
    "for img in (dataCSV.imageNames):\n",
    "    image_features=get_image_features(img)\n",
    "    image_features_list.append(image_features)\n",
    "    \n",
    "image_features_arr=np.asarray(image_features_list)\n",
    "image_features_arr = np.rollaxis(image_features_arr,1,0)\n",
    "image_features_arr=image_features_arr[0,:,:]    "
   ]
  },
  {
   "cell_type": "code",
   "execution_count": 156,
   "id": "ebf72349",
   "metadata": {},
   "outputs": [
    {
     "name": "stdout",
     "output_type": "stream",
     "text": [
      "Done\n"
     ]
    }
   ],
   "source": [
    "# np.savetxt('C:\\\\Masters\\\\Sem02_Winter2022\\\\DeepLearning\\\\DeepLearning\\\\AnimalImageDataset\\\\feature_vectors_class_samples2.txt',image_features_arr)\n",
    "\n",
    "pickle.dump(image_features_arr, open(\"C:\\\\Masters\\\\Sem02_Winter2022\\\\DeepLearning\\\\DeepLearning\\\\AnimalImageDataset\\\\feature_vectors_class_samples.pkl\", 'wb'))\n",
    "print('Done')"
   ]
  },
  {
   "cell_type": "code",
   "execution_count": 157,
   "id": "ed5ef61d",
   "metadata": {},
   "outputs": [],
   "source": [
    "#creating sprite images\n",
    "imgData=[]\n",
    "for img in (dataCSV.imageNames):\n",
    "    inputImg=cv2.imread(img)\n",
    "    inputImageResize=cv2.resize(inputImg,(150,150))\n",
    "    imgData.append(inputImageResize)\n",
    "imgData=np.array(imgData)"
   ]
  },
  {
   "cell_type": "code",
   "execution_count": 158,
   "id": "8d6fe830",
   "metadata": {},
   "outputs": [],
   "source": [
    "def imageToSprite(data):\n",
    "    if(len(data.shape)==3):\n",
    "        data = np.tile(data[...,np.newaxis], (1,1,1,3))\n",
    "    data = data.astype(np.float32)\n",
    "    min = np.min(data.reshape((data.shape[0], -1)), axis=1)\n",
    "    data=(data.transpose(1,2,3,0)-min).transpose(3,0,1,2)\n",
    "    max=np.max(data.reshape((data.shape[0],-1)),axis=1)\n",
    "    data=(data.transpose(1,2,3,0)/max).transpose(3,0,1,2)\n",
    "    \n",
    "    n = int(np.ceil(np.sqrt(data.shape[0])))\n",
    "    padding = ((0, n ** 2 - data.shape[0]), (0, 0),\n",
    "            (0, 0)) + ((0, 0),) * (data.ndim - 3)\n",
    "    data = np.pad(data, padding, mode='constant',\n",
    "            constant_values=0)\n",
    "    # Tile the individual thumbnails into an image.\n",
    "    data = data.reshape((n, n) + data.shape[1:]).transpose((0, 2, 1, 3)\n",
    "            + tuple(range(4, data.ndim + 1)))\n",
    "    data = data.reshape((n * data.shape[1], n * data.shape[3]) + data.shape[4:])\n",
    "    data = (data * 255).astype(np.uint8)\n",
    "    \n",
    "    return data     "
   ]
  },
  {
   "cell_type": "code",
   "execution_count": 159,
   "id": "e6858ead",
   "metadata": {},
   "outputs": [
    {
     "data": {
      "text/plain": [
       "True"
      ]
     },
     "execution_count": 159,
     "metadata": {},
     "output_type": "execute_result"
    }
   ],
   "source": [
    "sprite=imageToSprite(imgData)\n",
    "cv2.imwrite(os.path.join(LOG_DIR, 'sprite_12classes.png'), sprite)"
   ]
  },
  {
   "cell_type": "code",
   "execution_count": 160,
   "id": "1f1737ed",
   "metadata": {},
   "outputs": [
    {
     "name": "stdout",
     "output_type": "stream",
     "text": [
      "feature_vectors_shape: (1200, 512)\n",
      "num of images: 1200\n",
      "size of individual feature vector: 512\n"
     ]
    }
   ],
   "source": [
    "with open('C:/Masters/Sem02_Winter2022/DeepLearning/DeepLearning/AnimalImageDataset/feature_vectors_class_samples.pkl', 'rb') as f:\n",
    "    feature_vectors = pickle.load(f)\n",
    "print (\"feature_vectors_shape:\",feature_vectors.shape)\n",
    "print (\"num of images:\",feature_vectors.shape[0])\n",
    "print (\"size of individual feature vector:\",feature_vectors.shape[1])\n",
    "\n",
    "#%%\n",
    "features = tf.Variable(feature_vectors, name='features')\n",
    "# Create a checkpoint from embedding, the filename and key are\n",
    "# name of the tensor.\n",
    "checkpoint = tf.train.Checkpoint(embedding=features)\n",
    "checkpoint.save(os.path.join(LOG_DIR, \"embedding.ckpt\"))\n",
    "\n",
    "# Set up config\n",
    "config = projector.ProjectorConfig()\n",
    "embedding = config.embeddings.add()\n",
    "# The name of the tensor will be suffixed by `/.ATTRIBUTES/VARIABLE_VALUE`\n",
    "embedding.tensor_name = \"embedding/.ATTRIBUTES/VARIABLE_VALUE\"\n",
    "    # Link this tensor to its metadata file (e.g. labels).\n",
    "embedding.metadata_path =  'C:/Masters/Sem02_Winter2022/DeepLearning/DeepLearning/AnimalImageDataset/embdeddingLogs/metadata_12classes.tsv'\n",
    "    # Comment out if you don't want sprites\n",
    "embedding.sprite.image_path =  'C:/Masters/Sem02_Winter2022/DeepLearning/DeepLearning/AnimalImageDataset/embdeddingLogs/sprite_12classes.png'\n",
    "embedding.sprite.single_image_dim.extend([imgData.shape[1], imgData.shape[1]])\n",
    "    # Saves a config file that TensorBoard will read during startup.\n",
    "\n",
    "projector.visualize_embeddings(LOG_DIR, config)"
   ]
  },
  {
   "cell_type": "code",
   "execution_count": 2,
   "id": "e94932b9",
   "metadata": {
    "scrolled": false
   },
   "outputs": [
    {
     "data": {
      "text/plain": [
       "Reusing TensorBoard on port 6009 (pid 25980), started 0:00:07 ago. (Use '!kill 25980' to kill it.)"
      ]
     },
     "metadata": {},
     "output_type": "display_data"
    },
    {
     "data": {
      "text/html": [
       "\n",
       "      <iframe id=\"tensorboard-frame-77db24ad7eaef773\" width=\"100%\" height=\"800\" frameborder=\"0\">\n",
       "      </iframe>\n",
       "      <script>\n",
       "        (function() {\n",
       "          const frame = document.getElementById(\"tensorboard-frame-77db24ad7eaef773\");\n",
       "          const url = new URL(\"/\", window.location);\n",
       "          const port = 6009;\n",
       "          if (port) {\n",
       "            url.port = port;\n",
       "          }\n",
       "          frame.src = url;\n",
       "        })();\n",
       "      </script>\n",
       "    "
      ],
      "text/plain": [
       "<IPython.core.display.HTML object>"
      ]
     },
     "metadata": {},
     "output_type": "display_data"
    }
   ],
   "source": [
    "%reload_ext tensorboard\n",
    "#del /q %TMP%\\.tensorboard-info\\*\n",
    "%tensorboard --logdir='C:/Masters/Sem02_Winter2022/DeepLearning/DeepLearning/AnimalImageDataset/embdeddingLogs' --port=6009"
   ]
  },
  {
   "cell_type": "code",
   "execution_count": null,
   "id": "569a0342",
   "metadata": {},
   "outputs": [],
   "source": []
  }
 ],
 "metadata": {
  "kernelspec": {
   "display_name": "Python 3 (ipykernel)",
   "language": "python",
   "name": "python3"
  },
  "language_info": {
   "codemirror_mode": {
    "name": "ipython",
    "version": 3
   },
   "file_extension": ".py",
   "mimetype": "text/x-python",
   "name": "python",
   "nbconvert_exporter": "python",
   "pygments_lexer": "ipython3",
   "version": "3.9.7"
  }
 },
 "nbformat": 4,
 "nbformat_minor": 5
}
